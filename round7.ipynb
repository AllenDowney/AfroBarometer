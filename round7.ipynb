{
 "cells": [
  {
   "cell_type": "markdown",
   "metadata": {},
   "source": [
    "# AfroBarometer\n",
    "\n",
    "Copyright 2020 Allen B. Downey\n",
    "\n",
    "[MIT License](https://opensource.org/licenses/MIT)"
   ]
  },
  {
   "cell_type": "markdown",
   "metadata": {},
   "source": [
    "## Exploring Round 7 data\n",
    "\n",
    "In this notebook, we'll explore data from [AfroBarometer](https://www.afrobarometer.org/)\n",
    "\n",
    "Please review [the data use policies](https://www.afrobarometer.org/data/data-use-policy)\n",
    "\n",
    "It looks like the codebook for the Round 7 data is not available.\n",
    "\n",
    "[Here's the codebook for Round 6](https://afrobarometer.org/data/merged-round-6-codebook-36-countries-2016)\n",
    "\n",
    "[Some of the questionnaires are here](https://afrobarometer.org/surveys-and-methods/questionnaires)\n",
    "\n",
    "[Here is the download page for the Merged Data](https://www.afrobarometer.org/data/merged-data)"
   ]
  },
  {
   "cell_type": "code",
   "execution_count": 1,
   "metadata": {},
   "outputs": [],
   "source": [
    "import sys\n",
    "IN_COLAB = 'google.colab' in sys.modules\n",
    "\n",
    "if IN_COLAB:\n",
    "    !pip install pyreadstat"
   ]
  },
  {
   "cell_type": "code",
   "execution_count": 2,
   "metadata": {},
   "outputs": [],
   "source": [
    "import os\n",
    "\n",
    "filename = 'r7_merged_data_34ctry.release.sav'\n",
    "if not os.path.exists(filename):\n",
    "    !wget https://afrobarometer.org/sites/default/files/data/round-7/r7_merged_data_34ctry.release.sav"
   ]
  },
  {
   "cell_type": "code",
   "execution_count": null,
   "metadata": {},
   "outputs": [],
   "source": [
    "import pandas as pd\n",
    "\n",
    "df = pd.read_spss('r7_merged_data_34ctry.release.sav')"
   ]
  },
  {
   "cell_type": "code",
   "execution_count": null,
   "metadata": {},
   "outputs": [],
   "source": []
  }
 ],
 "metadata": {
  "kernelspec": {
   "display_name": "Python 3",
   "language": "python",
   "name": "python3"
  },
  "language_info": {
   "codemirror_mode": {
    "name": "ipython",
    "version": 3
   },
   "file_extension": ".py",
   "mimetype": "text/x-python",
   "name": "python",
   "nbconvert_exporter": "python",
   "pygments_lexer": "ipython3",
   "version": "3.6.10"
  }
 },
 "nbformat": 4,
 "nbformat_minor": 2
}
