{
 "cells": [
  {
   "cell_type": "markdown",
   "metadata": {},
   "source": [
    "## Reading Afrobarometer round 6"
   ]
  },
  {
   "cell_type": "code",
   "execution_count": 12,
   "metadata": {},
   "outputs": [
    {
     "name": "stdout",
     "output_type": "stream",
     "text": [
      "Collecting gdown\n",
      "  Downloading gdown-3.12.2.tar.gz (8.2 kB)\n",
      "  Installing build dependencies ... \u001b[?25ldone\n",
      "\u001b[?25h  Getting requirements to build wheel ... \u001b[?25ldone\n",
      "\u001b[?25h    Preparing wheel metadata ... \u001b[?25ldone\n",
      "\u001b[?25hCollecting filelock\n",
      "  Downloading filelock-3.0.12-py3-none-any.whl (7.6 kB)\n",
      "Requirement already satisfied: six in /home/downey/anaconda3/envs/AfroBarometer/lib/python3.9/site-packages (from gdown) (1.15.0)\n",
      "Collecting tqdm\n",
      "  Downloading tqdm-4.53.0-py2.py3-none-any.whl (70 kB)\n",
      "\u001b[K     |████████████████████████████████| 70 kB 1.8 MB/s eta 0:00:011\n",
      "\u001b[?25hCollecting requests[socks]\n",
      "  Downloading requests-2.25.0-py2.py3-none-any.whl (61 kB)\n",
      "\u001b[K     |████████████████████████████████| 61 kB 4.2 MB/s eta 0:00:01\n",
      "\u001b[?25hRequirement already satisfied: certifi>=2017.4.17 in /home/downey/anaconda3/envs/AfroBarometer/lib/python3.9/site-packages (from requests[socks]->gdown) (2020.6.20)\n",
      "Collecting urllib3<1.27,>=1.21.1\n",
      "  Downloading urllib3-1.26.2-py2.py3-none-any.whl (136 kB)\n",
      "\u001b[K     |████████████████████████████████| 136 kB 14.9 MB/s eta 0:00:01\n",
      "\u001b[?25hCollecting chardet<4,>=3.0.2\n",
      "  Using cached chardet-3.0.4-py2.py3-none-any.whl (133 kB)\n",
      "Collecting idna<3,>=2.5\n",
      "  Using cached idna-2.10-py2.py3-none-any.whl (58 kB)\n",
      "Collecting PySocks!=1.5.7,>=1.5.6; extra == \"socks\"\n",
      "  Downloading PySocks-1.7.1-py3-none-any.whl (16 kB)\n",
      "Building wheels for collected packages: gdown\n",
      "  Building wheel for gdown (PEP 517) ... \u001b[?25ldone\n",
      "\u001b[?25h  Created wheel for gdown: filename=gdown-3.12.2-py3-none-any.whl size=9681 sha256=2c7e55e8bddb386dc1d483a44aae59194156cf21d8703747196bec944ce12d30\n",
      "  Stored in directory: /home/downey/.cache/pip/wheels/19/65/a3/57172a39ac442300d84329fe2730327f7674bdfb2ab7ba3e74\n",
      "Successfully built gdown\n",
      "Installing collected packages: filelock, tqdm, urllib3, chardet, idna, PySocks, requests, gdown\n",
      "Successfully installed PySocks-1.7.1 chardet-3.0.4 filelock-3.0.12 gdown-3.12.2 idna-2.10 requests-2.25.0 tqdm-4.53.0 urllib3-1.26.2\n"
     ]
    }
   ],
   "source": [
    "!pip install gdown"
   ]
  },
  {
   "cell_type": "code",
   "execution_count": 14,
   "metadata": {},
   "outputs": [
    {
     "name": "stdout",
     "output_type": "stream",
     "text": [
      "Downloading...\n",
      "From: https://drive.google.com/uc?id=1CwBcodWxKv_yPCxzkfVMYpMp1e6P_BMK\n",
      "To: /home/downey/AfroBarometer/merged_r6_data.csv.zip\n",
      "53.4MB [00:05, 10.3MB/s]\n"
     ]
    }
   ],
   "source": [
    "import os\n",
    "from gdown import download\n",
    "\n",
    "filename = 'merged_r6_data.csv.zip'\n",
    "if not os.path.exists(filename):\n",
    "    !gdown https://drive.google.com/uc?id=1CwBcodWxKv_yPCxzkfVMYpMp1e6P_BMK"
   ]
  },
  {
   "cell_type": "code",
   "execution_count": 15,
   "metadata": {},
   "outputs": [
    {
     "name": "stderr",
     "output_type": "stream",
     "text": [
      "/home/downey/anaconda3/envs/AfroBarometer/lib/python3.9/site-packages/IPython/core/interactiveshell.py:3146: DtypeWarning: Columns (41,44,323,345,354) have mixed types.Specify dtype option on import or set low_memory=False.\n",
      "  has_raised = await self.run_ast_nodes(code_ast.body, cell_name,\n"
     ]
    },
    {
     "data": {
      "text/plain": [
       "(53935, 368)"
      ]
     },
     "execution_count": 15,
     "metadata": {},
     "output_type": "execute_result"
    }
   ],
   "source": [
    "import pandas as pd\n",
    "\n",
    "df = pd.read_csv(filename, encoding='UTF-16LE', compression='zip')\n",
    "df.shape"
   ]
  },
  {
   "cell_type": "code",
   "execution_count": 16,
   "metadata": {},
   "outputs": [
    {
     "data": {
      "text/plain": [
       "Index(['Unnamed: 0', 'RESPNO', 'COUNTRY', 'COUNTRY_R5List',\n",
       "       'COUNTRY.BY.REGION', 'URBRUR', 'REGION', 'LOCATION.LEVEL.1', 'EA_SVC_A',\n",
       "       'EA_SVC_B',\n",
       "       ...\n",
       "       'R1.only', 'R2.only', 'R3.only', 'R4.only', 'R5.only',\n",
       "       'West.Africa.only', 'East.Africa.only', 'Southern.Africa.only',\n",
       "       'North.Africa.only', 'Central.Africa.only'],\n",
       "      dtype='object', length=368)"
      ]
     },
     "execution_count": 16,
     "metadata": {},
     "output_type": "execute_result"
    }
   ],
   "source": [
    "df.columns"
   ]
  },
  {
   "cell_type": "code",
   "execution_count": null,
   "metadata": {},
   "outputs": [],
   "source": []
  }
 ],
 "metadata": {
  "kernelspec": {
   "display_name": "Python 3",
   "language": "python",
   "name": "python3"
  },
  "language_info": {
   "codemirror_mode": {
    "name": "ipython",
    "version": 3
   },
   "file_extension": ".py",
   "mimetype": "text/x-python",
   "name": "python",
   "nbconvert_exporter": "python",
   "pygments_lexer": "ipython3",
   "version": "3.9.0"
  }
 },
 "nbformat": 4,
 "nbformat_minor": 2
}
